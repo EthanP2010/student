{
 "cells": [
  {
   "cell_type": "raw",
   "id": "65acca70",
   "metadata": {
    "vscode": {
     "languageId": "raw"
    }
   },
   "source": [
    "---\n",
    "layout: post\n",
    "title: Conditionals in Python by Ctrl-Zombies\n",
    "description: Conditionals homework in Python\n",
    "permalink: /python/conditionals/zombies-hw\n",
    "Author: Aneesh Deevi, Moiz Lukmani, Perry Say\n",
    "---"
   ]
  },
  {
   "cell_type": "markdown",
   "id": "3db6febd",
   "metadata": {},
   "source": [
    "## Conditionals Python Homework\n",
    "---\n",
    "### Python Popcorn Hack\n",
    "\n"
   ]
  },
  {
   "cell_type": "code",
   "execution_count": 3,
   "id": "96d9cb22",
   "metadata": {},
   "outputs": [
    {
     "name": "stdout",
     "output_type": "stream",
     "text": [
      "Error: Cannot divide by zero!\n"
     ]
    }
   ],
   "source": [
    "number1 = 10\n",
    "number2 = 0 \n",
    "\n",
    "if number2 != 0:        # fill in the condition\n",
    "    result = number1 / number2   # fill in the operator\n",
    "    print(\"The answer is\", result)  # fill in what to print\n",
    "else:\n",
    "    print(\"Error: Cannot divide by zero!\")  # fill in the missing word"
   ]
  },
  {
   "cell_type": "markdown",
   "id": "35720ac5",
   "metadata": {},
   "source": [
    "### Part A: Answer the Question!\n",
    "What does an if statement do in programming?\n",
    "\n",
    "``An if statement is used to make decisions about which condition to do ``\n",
    "\n",
    "\n",
    "### Part B: Python Practice\n",
    "Write a Python program that checks if a number ``score = 85`` is a **passing grade** (≥ 60). Print \"Pass\" if true, otherwise ``\"Fail\"``.\n",
    "<!-- Extra Credit: Change the variables assigned values (Ex: score = 90, passing grade (≥ 20), etc). -->\n"
   ]
  },
  {
   "cell_type": "code",
   "execution_count": null,
   "id": "85cce559",
   "metadata": {},
   "outputs": [],
   "source": [
    "# <-- Example Code\n",
    "\n",
    "x = 19\n",
    "\n",
    "if x >= 18:\n",
    "    print(\"You can vote\")\n",
    "else:\n",
    "    print(\"You are too young to vote\")"
   ]
  },
  {
   "cell_type": "code",
   "execution_count": 5,
   "id": "92a69163",
   "metadata": {},
   "outputs": [
    {
     "name": "stdout",
     "output_type": "stream",
     "text": [
      "Fail\n"
     ]
    }
   ],
   "source": [
    "# <-- Do the homework in this code cell\n",
    "\n",
    "x = 55\n",
    "\n",
    "if x >= 56:\n",
    "    print(\"Pass\")\n",
    "else:\n",
    "    print('Fail')"
   ]
  }
 ],
 "metadata": {
  "kernelspec": {
   "display_name": "venv (3.13.7)",
   "language": "python",
   "name": "python3"
  },
  "language_info": {
   "codemirror_mode": {
    "name": "ipython",
    "version": 3
   },
   "file_extension": ".py",
   "mimetype": "text/x-python",
   "name": "python",
   "nbconvert_exporter": "python",
   "pygments_lexer": "ipython3",
   "version": "3.13.7"
  }
 },
 "nbformat": 4,
 "nbformat_minor": 5
}
