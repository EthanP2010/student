{
 "cells": [
  {
   "cell_type": "raw",
   "id": "1e24f20e",
   "metadata": {
    "vscode": {
     "languageId": "raw"
    }
   },
   "source": [
    "---\n",
    "layout: post\n",
    "title: 1st blog\n",
    "description: This is my first blog about CSP\n",
    "permalink: /blogs/blog1\n",
    "breadcrumb: True\n",
    "Author: Ethan Patel\n",
    "---"
   ]
  },
  {
   "cell_type": "markdown",
   "id": "20704d33",
   "metadata": {},
   "source": [
    "## What I have done\n",
    "### Week 1\n",
    "- On the first day of school, I set up my Github account for the first time and was successful.\n",
    "- I set up VS Code on my Mac computer, which was a bumpy road as I copied and pasted mulitple lines of code into Terminal. I know now not to do this as it can cause a chain reaction of bad events\n",
    "### Week 2\n",
    "- Continued to work on set up and learned tools such as opencs, make, and my repo\n",
    "- I made an issue to prepare for Checkpoint 1 and showed the changes I made to my about page\n",
    "- Got more comfortable with my tools and code\n",
    "### Week 3\n",
    "- Used themes and Jupyter Notebook and got comfortable\n",
    "    - Used these tools to get a .90 on the pop \"quiz\"\n",
    "- I added more commits to get analytics \n",
    "- Split into teams and chose to fix either themes or notebook\n",
    "- Listened in on the presentation by LXD2\n",
    "### Week 4\n",
    "- Split into groups of 6 with mini groups of 3\n",
    "- Decided on team name, philosophy, tag line\n",
    "- Copy and pasted from pages to student\n",
    "- Showed our progress as a group to Mr. Mort and Aadit\n",
    "- Added comments\n",
    "### Week 5\n",
    "- Changed Alien background and Sprite to my own images"
   ]
  }
 ],
 "metadata": {
  "language_info": {
   "name": "python"
  }
 },
 "nbformat": 4,
 "nbformat_minor": 5
}
